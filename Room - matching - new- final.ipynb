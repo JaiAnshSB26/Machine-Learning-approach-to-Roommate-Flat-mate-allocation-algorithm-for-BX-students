{
 "cells": [
  {
   "cell_type": "markdown",
   "id": "45770b37",
   "metadata": {},
   "source": [
    "## Machine Learning (involving clustering (K-means) and optimization (Linear Sum Assignment)) Algorithmic approach for solving the Room-mate (well flat-mate in realty) allocation problem for the BXs!"
   ]
  },
  {
   "cell_type": "markdown",
   "id": "5d69a70c",
   "metadata": {},
   "source": [
    "#### Before we begin: for any doubts, feedback or discussions please email me at my institutional email id - jai-ansh.bindra@polytechnique.edu!"
   ]
  },
  {
   "cell_type": "markdown",
   "id": "bc995cbe",
   "metadata": {},
   "source": [
    "### Imports - "
   ]
  },
  {
   "cell_type": "code",
   "execution_count": 1,
   "id": "3a7941e7",
   "metadata": {},
   "outputs": [],
   "source": [
    "import pandas as pd\n",
    "import numpy as np\n",
    "from sklearn.cluster import KMeans\n",
    "from scipy.optimize import linear_sum_assignment"
   ]
  },
  {
   "cell_type": "markdown",
   "id": "98a0bca0",
   "metadata": {},
   "source": [
    "### Data Loading - "
   ]
  },
  {
   "cell_type": "code",
   "execution_count": 2,
   "id": "0471c608",
   "metadata": {},
   "outputs": [],
   "source": [
    "data = pd.read_excel('/Users/jaianshsinghbindra/Downloads/Roommate matching/Sample_Data.xlsx')"
   ]
  },
  {
   "cell_type": "markdown",
   "id": "5bb35cea",
   "metadata": {},
   "source": [
    "### Print the labels for debugging."
   ]
  },
  {
   "cell_type": "code",
   "execution_count": 3,
   "id": "e7e50aca",
   "metadata": {},
   "outputs": [
    {
     "name": "stdout",
     "output_type": "stream",
     "text": [
      "Index(['Name, Surname', 'Sex', 'What is your nationality(ies)',\n",
      "       'What language(s) do you speak?', 'What is your sleeptime (weekdays)?',\n",
      "       'What is your sleeptime (weekend)?', 'Does noise bother you?',\n",
      "       'If at night from what time. Noise, if night what time',\n",
      "       'How often are you willing to clean the common area?',\n",
      "       'How do you rate your sharing habits?',\n",
      "       'Do you clean your dishes right after using them?',\n",
      "       'Do you mind if your roommate invites people to your flat?',\n",
      "       'Would you invite people to your flat?',\n",
      "       'How do you handle disagreements?', 'Are you a party-person?'],\n",
      "      dtype='object')\n"
     ]
    }
   ],
   "source": [
    "file_path = '/Users/jaianshsinghbindra/Males Roommate form BX27(Responses).xlsx'\n",
    "print(data.columns)"
   ]
  },
  {
   "cell_type": "markdown",
   "id": "328705fe",
   "metadata": {},
   "source": [
    "### Additional functions for cleaning data if you are too lazy (might not work the best since I didn't use them!)"
   ]
  },
  {
   "cell_type": "code",
   "execution_count": null,
   "id": "80f18c3b",
   "metadata": {},
   "outputs": [],
   "source": [
    "''' \n",
    "def clean_nationality(nationalities):\n",
    "    cleaned = []\n",
    "    for nationality in nationalities.split(','):\n",
    "        nationality = nationality.strip().lower().replace('unofficially french', 'french')  # Normalizing(casing) nationality data\n",
    "        cleaned.append(nationality)\n",
    "    return cleaned\n",
    "\n",
    "# Normalize Yes/No responses to lowercase - for the 'Selecting the options' response types in the form.\n",
    "def normalize_yes_no(value):\n",
    "    return value.strip().lower()\n",
    "\n",
    "# Normalize languages by removing spaces\n",
    "def normalize_languages(languages):\n",
    "    return [lang.strip().lower() for lang in languages.split(',')]\n",
    "    \n",
    "    '''"
   ]
  },
  {
   "cell_type": "markdown",
   "id": "b4868ddb",
   "metadata": {},
   "source": [
    "### Label Handling -"
   ]
  },
  {
   "cell_type": "code",
   "execution_count": 4,
   "id": "691dd8e9",
   "metadata": {},
   "outputs": [],
   "source": [
    "data['Cleanliness'] = data['How often are you willing to clean the common area?'].apply(\n",
    "    lambda x: 5 if x == 'Every day' else (\n",
    "        4 if x == 'Few days per week' else (\n",
    "            3 if x == '1 day per week' else 0\n",
    "        )\n",
    "    )\n",
    ")\n",
    "data['Dishes'] = data['Do you clean your dishes right after using them?'].apply(lambda x: 1 if x == 'Yes' else 0)\n",
    "def noise_score(row):\n",
    "    if row['Does noise bother you?'] == 'During the day':\n",
    "        return 1\n",
    "    elif row['Does noise bother you?'] == 'At night':\n",
    "        time = row['If at night from what time. Noise, if night what time']\n",
    "        return {'9pm': 2, '10pm': 3, '11pm': 4, 'midnight': 5, 'after midnight': 6}.get(time, 0)\n",
    "    else:\n",
    "        return 0\n",
    "\n",
    "data['Noise Tolerance'] = data.apply(noise_score, axis=1)\n",
    "data['Party Person'] = data['Are you a party-person?'].apply(lambda x: 1 if x == 'yes' else 0)\n",
    "data['Sleeptime Weekdays'] = data['What is your sleeptime (weekdays)?'].apply(\n",
    "    lambda x: {'8 to 9pm': 1, '9 to 10pm': 2, '10 to 11pm': 3, '11 to midnight': 4, 'midnight to 2 am': 5, 'after 2am': 6}.get(x, 3)\n",
    ")\n",
    "data['Sleeptime Weekends'] = data['What is your sleeptime (weekend)?'].apply(\n",
    "    lambda x: {'8 to 9pm': 1, '9 to 10pm': 2, '10 to 11pm': 3, '11 to midnight': 4, 'midnight to 2 am': 5, 'after 2am': 6}.get(x, 3)\n",
    ")\n",
    "data['French Speaker'] = data['What language(s) do you speak?'].apply(lambda x: 1 if 'French' in x else 0)\n",
    "data['French National'] = data['What is your nationality(ies)'].apply(lambda x: 1 if 'French' in x else 0)\n",
    "data['Nationality'] = data['What is your nationality(ies)'].apply(lambda x: x.split(','))  # Split multiple nationalities into a list\n",
    "data['Mind Invites'] = data['Do you mind if your roommate invites people to your flat?'].apply(lambda x: 1 if x == 'yes' else 0)\n",
    "data['Invite People'] = data['Would you invite people to your flat?'].apply(lambda x: 1 if x == 'Yes' else 0)\n",
    "data['Handle Disagreements'] = data['How do you handle disagreements?'].apply(lambda x: {'Mediated discussion': 1, 'Confrontation': 2}.get(x, 0))\n",
    "data['Sharing Habits'] = data['How do you rate your sharing habits?'] "
   ]
  },
  {
   "cell_type": "markdown",
   "id": "1ac5ef9f",
   "metadata": {},
   "source": [
    "### Weights -"
   ]
  },
  {
   "cell_type": "code",
   "execution_count": 5,
   "id": "e9b66b9b",
   "metadata": {},
   "outputs": [],
   "source": [
    "# Da, rememeber the more the weight, the more likely those people to be grouped together by the algo.\n",
    "#Think of it as a grouping together algorithmic structure.\n",
    "weights = {\n",
    "    'Cleanliness': 6, #I could have put 7 too here but I felt like it would have been too heavy...\n",
    "    'Dishes': 3,\n",
    "    'Sleeptime Weekdays': 4,\n",
    "    'Sleeptime Weekends': 4,\n",
    "    'Noise Tolerance': 3,\n",
    "    'Party Person': 3,\n",
    "    'Nationality': 1,\n",
    "    'Mind Invites': 3,\n",
    "    'Invite People': 2,\n",
    "    'Handle Disagreements': 2,\n",
    "    'Sharing Habits': 3,  \n",
    "}"
   ]
  },
  {
   "cell_type": "markdown",
   "id": "5a15ab87",
   "metadata": {},
   "source": [
    "### Calculating compatibility scores - "
   ]
  },
  {
   "cell_type": "code",
   "execution_count": 6,
   "id": "59196a5e",
   "metadata": {},
   "outputs": [],
   "source": [
    "def calculate_compatibility_score(student1, student2):\n",
    "    score = 0\n",
    "    for factor in weights:\n",
    "        if factor == 'Nationality':  # Special handling for nationality\n",
    "            common_nationalities = set(student1['Nationality']).intersection(set(student2['Nationality']))\n",
    "            score += weights[factor] * (len(common_nationalities) > 0)\n",
    "        else:\n",
    "            score += weights[factor] * (student1[factor] == student2[factor])\n",
    "    return score"
   ]
  },
  {
   "cell_type": "markdown",
   "id": "b6386038",
   "metadata": {},
   "source": [
    "### Implementing/Evaluating the Compatibility Matrices - "
   ]
  },
  {
   "cell_type": "code",
   "execution_count": 7,
   "id": "a880a8ec",
   "metadata": {},
   "outputs": [],
   "source": [
    "num_students = len(data)\n",
    "compatibility_matrix = np.zeros((num_students, num_students))\n",
    "\n",
    "for i in range(num_students):\n",
    "    for j in range(num_students):\n",
    "        if i != j:\n",
    "            compatibility_matrix[i, j] = calculate_compatibility_score(data.iloc[i], data.iloc[j])"
   ]
  },
  {
   "cell_type": "markdown",
   "id": "132fc65f",
   "metadata": {},
   "source": [
    "### Clustering - "
   ]
  },
  {
   "cell_type": "code",
   "execution_count": 8,
   "id": "3ed8d982",
   "metadata": {},
   "outputs": [
    {
     "name": "stderr",
     "output_type": "stream",
     "text": [
      "/Users/jaianshsinghbindra/anaconda3/lib/python3.11/site-packages/sklearn/cluster/_kmeans.py:1412: FutureWarning: The default value of `n_init` will change from 10 to 'auto' in 1.4. Set the value of `n_init` explicitly to suppress the warning\n",
      "  super()._check_params_vs_input(X, default_n_init=10)\n"
     ]
    }
   ],
   "source": [
    "kmeans = KMeans(n_clusters=num_students // 4).fit(compatibility_matrix)\n",
    "data['Cluster'] = kmeans.labels_"
   ]
  },
  {
   "cell_type": "markdown",
   "id": "3e8798df",
   "metadata": {},
   "source": [
    "### Defining and Implementing the necessary constraints demanded by the admins (administration); also optimizing using LSA (Linear Sum Assignment (Problem)) -"
   ]
  },
  {
   "cell_type": "code",
   "execution_count": 9,
   "id": "0fd5d1a5",
   "metadata": {},
   "outputs": [],
   "source": [
    "#Implementing the penalty constraint system.\n",
    "cost_matrix = np.zeros((num_students, num_students))\n",
    "\n",
    "for i in range(num_students):\n",
    "    for j in range(num_students):\n",
    "        if i != j:\n",
    "            # Apply constraints\n",
    "            if data.iloc[i]['Sex'] != data.iloc[j]['Sex']:\n",
    "                cost_matrix[i, j] = float('inf')\n",
    "            elif data.iloc[i]['French National'] and data.iloc[j]['French National']:\n",
    "                cost_matrix[i, j] = float('inf')\n",
    "            elif data.iloc[i]['French Speaker'] and data.iloc[j]['French Speaker']:\n",
    "                cost_matrix[i, j] += 8  #could have been 5 or 10, maybe 5 would have worked better but I decided to settle for 8 based on the data I had.\n",
    "            elif len(set(data.iloc[i]['Nationality']).intersection(set(data.iloc[j]['Nationality']))) > 0:\n",
    "                cost_matrix[i, j] += 10\n",
    "            else:\n",
    "                cost_matrix[i, j] -= compatibility_matrix[i, j]\n",
    "\n",
    "row_ind, col_ind = linear_sum_assignment(cost_matrix)"
   ]
  },
  {
   "cell_type": "markdown",
   "id": "20bbf099",
   "metadata": {},
   "source": [
    "### Extra code for ensuring atleast one French National per room (which I didn't use due to the trends in the data I was working with) - "
   ]
  },
  {
   "cell_type": "code",
   "execution_count": null,
   "id": "ffbbe3b5",
   "metadata": {},
   "outputs": [],
   "source": [
    "'''\n",
    "# Ensure at least one French National in each room\n",
    "clusters = {i: [] for i in range(num_students // 4)}\n",
    "for i in range(len(row_ind)):\n",
    "    clusters[data.iloc[row_ind[i]]['Cluster']].append(data.iloc[row_ind[i]])\n",
    "\n",
    "# Check and adjust clusters to ensure at least one French National in each room\n",
    "for cluster_id, students in clusters.items():\n",
    "    if not any(student['French National'] for student in students):\n",
    "        # Find a French National to swap in\n",
    "        for other_cluster_id, other_students in clusters.items():\n",
    "            if other_cluster_id != cluster_id and any(student['French National'] for student in other_students):\n",
    "                french_student = next(student for student in other_students if student['French National'])\n",
    "                other_students.remove(french_student)\n",
    "                students.append(french_student)\n",
    "                break\n",
    "'''"
   ]
  },
  {
   "cell_type": "markdown",
   "id": "4d3e640c",
   "metadata": {},
   "source": [
    "### Forming the groups of people (to be filled into the appartments), finally the good part - "
   ]
  },
  {
   "cell_type": "code",
   "execution_count": 10,
   "id": "915f6b57",
   "metadata": {},
   "outputs": [
    {
     "data": {
      "text/plain": [
       "\"\\ngroups = {}\\nfor i, (cluster_id, students) in enumerate(clusters.items()):\\n    group = [student['Name, Surname'] for student in students]\\n    groups[f'Group {i + 1}'] = group\\n\""
      ]
     },
     "execution_count": 10,
     "metadata": {},
     "output_type": "execute_result"
    }
   ],
   "source": [
    "groups = {}\n",
    "for i in range(0, len(row_ind), 4):\n",
    "    group = []\n",
    "    for j in range(4):\n",
    "        if i + j < len(row_ind):\n",
    "            group.append(data.iloc[row_ind[i + j]]['Name, Surname'])\n",
    "    groups[f'Group {i // 4 + 1}'] = group\n",
    "\n",
    "#As I mentioned in the Readme file, I changed some factors specifically for the data I had, so there are some warning messages here, but you can safey ignore them while working with real time big sized-data.\n",
    "#If you applied the code for ensuring one french speaker per room -\n",
    "#You need to comment out the aformentioned code of this cell and run the code given below instead - \n",
    "\n",
    "'''\n",
    "groups = {}\n",
    "for i, (cluster_id, students) in enumerate(clusters.items()):\n",
    "    group = [student['Name, Surname'] for student in students]\n",
    "    groups[f'Group {i + 1}'] = group\n",
    "'''"
   ]
  },
  {
   "cell_type": "markdown",
   "id": "86ebb790",
   "metadata": {},
   "source": [
    "### Print the groups!"
   ]
  },
  {
   "cell_type": "code",
   "execution_count": 11,
   "id": "d09ddf62",
   "metadata": {},
   "outputs": [
    {
     "name": "stdout",
     "output_type": "stream",
     "text": [
      "Group 1: John Doe, Jane Smith, Alice Johnson, Bob Brown\n",
      "Group 2: Charlie Davis, Eve Wilson, Frank Harris, Grace Lee\n"
     ]
    }
   ],
   "source": [
    "for group, members in groups.items():\n",
    "    print(f\"{group}: {', '.join(members)}\")"
   ]
  },
  {
   "cell_type": "markdown",
   "id": "d558949e",
   "metadata": {},
   "source": [
    "### Save data to a newly generated Excel format file with a name of your choice! "
   ]
  },
  {
   "cell_type": "code",
   "execution_count": 19,
   "id": "5f562e7a",
   "metadata": {},
   "outputs": [],
   "source": [
    "output = pd.DataFrame.from_dict(groups, orient='index').transpose()\n",
    "output.to_excel('room_allocation_results.xlsx', index=False)"
   ]
  }
 ],
 "metadata": {
  "kernelspec": {
   "display_name": "Python 3 (ipykernel)",
   "language": "python",
   "name": "python3"
  },
  "language_info": {
   "codemirror_mode": {
    "name": "ipython",
    "version": 3
   },
   "file_extension": ".py",
   "mimetype": "text/x-python",
   "name": "python",
   "nbconvert_exporter": "python",
   "pygments_lexer": "ipython3",
   "version": "3.11.4"
  }
 },
 "nbformat": 4,
 "nbformat_minor": 5
}
